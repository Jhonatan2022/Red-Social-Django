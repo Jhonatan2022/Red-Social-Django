{
 "cells": [
  {
   "attachments": {},
   "cell_type": "markdown",
   "metadata": {},
   "source": [
    "# Red Social Con Django\n",
    "\n",
    "## Requicitos\n",
    "\n",
    "* Python 3.6 o superior [Descargar](https://www.python.org/downloads/)\n",
    "\n",
    "## Pasos a seguir\n",
    "\n",
    "1. Crear un entorno virtual con el comando `python -m venv venv` o `virtualenv venv`\n",
    "\n",
    "2. Activar el entorno virtual con el comando `source venv/Scripts/activate` o `venv\\Scripts\\activate`\n",
    "\n",
    "3. Instalar las dependencias con el comando `pip install -r requirements.sh` o `pip install -r requirements.sh`\n",
    "\n",
    "4. Crear el proyecto con el comando `django-admin startproject nombre_proyecto .` el punto es para que no cree una carpeta con el nombre del proyecto\n",
    "\n",
    "5. Crear la app con el comando `python manage.py startapp nombre_app`\n",
    "\n",
    "6. Crear la base de datos con el comando `python manage.py migrate`"
   ]
  },
  {
   "attachments": {},
   "cell_type": "markdown",
   "metadata": {},
   "source": [
    "### Sitios de interes\n",
    "\n",
    "* [Django](https://www.djangoproject.com/) Para crear el proyecto\n",
    "* [Django Rest Framework](https://www.django-rest-framework.org/) Para crear la API\n",
    "* [pipy](https://pypi.org/) Para instalar las dependencias\n",
    "* [Bootstrap](https://getbootstrap.com/) Para el diseño de la app\n",
    "* [Render](https://render.com/) Para desplegar la app\n",
    "* [PostgreSQL](https://www.postgresql.org/) Para la base de datos\n"
   ]
  }
 ],
 "metadata": {
  "language_info": {
   "name": "python"
  },
  "orig_nbformat": 4
 },
 "nbformat": 4,
 "nbformat_minor": 2
}
