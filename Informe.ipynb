{
 "cells": [
  {
   "attachments": {},
   "cell_type": "markdown",
   "metadata": {},
   "source": [
    "# Red Social Con Django\n",
    "\n",
    "## Requicitos\n",
    "\n",
    "* Python 3.6 o superior [Descargar](https://www.python.org/downloads/)\n"
   ]
  }
 ],
 "metadata": {
  "language_info": {
   "name": "python"
  },
  "orig_nbformat": 4
 },
 "nbformat": 4,
 "nbformat_minor": 2
}
